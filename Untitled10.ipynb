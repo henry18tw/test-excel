{
  "nbformat": 4,
  "nbformat_minor": 0,
  "metadata": {
    "colab": {
      "name": "Untitled10.ipynb",
      "provenance": [],
      "collapsed_sections": [],
      "authorship_tag": "ABX9TyMsJhXSnse59exLBrbpYAAh",
      "include_colab_link": true
    },
    "kernelspec": {
      "name": "python3",
      "display_name": "Python 3"
    },
    "language_info": {
      "name": "python"
    }
  },
  "cells": [
    {
      "cell_type": "markdown",
      "metadata": {
        "id": "view-in-github",
        "colab_type": "text"
      },
      "source": [
        "<a href=\"https://colab.research.google.com/github/henry18tw/test-excel/blob/main/Untitled10.ipynb\" target=\"_parent\"><img src=\"https://colab.research.google.com/assets/colab-badge.svg\" alt=\"Open In Colab\"/></a>"
      ]
    },
    {
      "cell_type": "code",
      "execution_count": null,
      "metadata": {
        "colab": {
          "base_uri": "https://localhost:8080/"
        },
        "id": "-PzeCihgYzZ1",
        "outputId": "ec14fe5f-854e-4d6f-e048-78fa008263f3"
      },
      "outputs": [
        {
          "output_type": "stream",
          "name": "stdout",
          "text": [
            "Hello World!\n",
            "This is my first program.\n"
          ]
        }
      ],
      "source": [
        "print('Hello World!\\nThis is my first program.')"
      ]
    },
    {
      "cell_type": "code",
      "source": [
        "t=int(input())\n",
        "u=int(input())\n",
        "sum=t+u\n",
        "print(sum)"
      ],
      "metadata": {
        "colab": {
          "base_uri": "https://localhost:8080/"
        },
        "id": "VxVhZ5nraTnY",
        "outputId": "b5c2adb3-38e2-49b5-8226-fab26beafcb1"
      },
      "execution_count": null,
      "outputs": [
        {
          "output_type": "stream",
          "name": "stdout",
          "text": [
            "6\n",
            "9\n",
            "15\n"
          ]
        }
      ]
    },
    {
      "cell_type": "code",
      "source": [
        "print(2+5)"
      ],
      "metadata": {
        "colab": {
          "base_uri": "https://localhost:8080/"
        },
        "id": "DFnrHKlicAIj",
        "outputId": "4ab8b7fc-501a-49a4-be33-a1018496eb8f"
      },
      "execution_count": null,
      "outputs": [
        {
          "output_type": "stream",
          "name": "stdout",
          "text": [
            "7\n"
          ]
        }
      ]
    },
    {
      "cell_type": "code",
      "source": [
        "a=input()\n",
        "b=input()\n",
        "c=input()\n",
        "print('Name',a,sep=':')\n",
        "print('Age',b,sep=':')\n",
        "print('Gender',c,sep=':')"
      ],
      "metadata": {
        "colab": {
          "base_uri": "https://localhost:8080/"
        },
        "id": "GUe2Y1ZRiI2_",
        "outputId": "908e796b-499d-4208-d08f-09101fc82647"
      },
      "execution_count": null,
      "outputs": [
        {
          "output_type": "stream",
          "name": "stdout",
          "text": [
            "3\n",
            "4\n",
            "5\n",
            "Name:3\n",
            "Age:4\n",
            "Gender:5\n"
          ]
        }
      ]
    },
    {
      "cell_type": "code",
      "source": [
        "x=input()\n",
        "y=input()\n",
        "print(y)\n",
        "print(x)"
      ],
      "metadata": {
        "colab": {
          "base_uri": "https://localhost:8080/"
        },
        "id": "n6ao6myVlTbu",
        "outputId": "810a4203-da6d-4f57-a4b1-dafb46efbdba"
      },
      "execution_count": null,
      "outputs": [
        {
          "output_type": "stream",
          "name": "stdout",
          "text": [
            "6\n",
            "9\n",
            "9\n",
            "6\n"
          ]
        }
      ]
    },
    {
      "cell_type": "code",
      "source": [
        "x=int(input())\n",
        "if x==850812:\n",
        "  print('welcome back')\n",
        "else:\n",
        "  print('permission denied')"
      ],
      "metadata": {
        "colab": {
          "base_uri": "https://localhost:8080/"
        },
        "id": "KzfJ2oNYBVrq",
        "outputId": "340e2fae-dad9-4f48-ee5a-14a37ecb3944"
      },
      "execution_count": null,
      "outputs": [
        {
          "output_type": "stream",
          "name": "stdout",
          "text": [
            "850812\n",
            "welcome back\n"
          ]
        }
      ]
    },
    {
      "cell_type": "code",
      "source": [
        "alist=int(input())\n",
        "for i in alist:\n",
        "  print(i,end='\\n')"
      ],
      "metadata": {
        "colab": {
          "base_uri": "https://localhost:8080/",
          "height": 219
        },
        "id": "l-JyVA7HzlmV",
        "outputId": "83556b3c-b970-4874-9f2b-4cb8f159bb63"
      },
      "execution_count": null,
      "outputs": [
        {
          "name": "stdout",
          "output_type": "stream",
          "text": [
            "4\n"
          ]
        },
        {
          "output_type": "error",
          "ename": "TypeError",
          "evalue": "ignored",
          "traceback": [
            "\u001b[0;31m---------------------------------------------------------------------------\u001b[0m",
            "\u001b[0;31mTypeError\u001b[0m                                 Traceback (most recent call last)",
            "\u001b[0;32m<ipython-input-13-cfbf17d2790d>\u001b[0m in \u001b[0;36m<module>\u001b[0;34m()\u001b[0m\n\u001b[1;32m      1\u001b[0m \u001b[0malist\u001b[0m\u001b[0;34m=\u001b[0m\u001b[0mint\u001b[0m\u001b[0;34m(\u001b[0m\u001b[0minput\u001b[0m\u001b[0;34m(\u001b[0m\u001b[0;34m)\u001b[0m\u001b[0;34m)\u001b[0m\u001b[0;34m\u001b[0m\u001b[0;34m\u001b[0m\u001b[0m\n\u001b[0;32m----> 2\u001b[0;31m \u001b[0;32mfor\u001b[0m \u001b[0mi\u001b[0m \u001b[0;32min\u001b[0m \u001b[0malist\u001b[0m\u001b[0;34m:\u001b[0m\u001b[0;34m\u001b[0m\u001b[0;34m\u001b[0m\u001b[0m\n\u001b[0m\u001b[1;32m      3\u001b[0m   \u001b[0mprint\u001b[0m\u001b[0;34m(\u001b[0m\u001b[0mi\u001b[0m\u001b[0;34m,\u001b[0m\u001b[0mend\u001b[0m\u001b[0;34m=\u001b[0m\u001b[0;34m'\\n'\u001b[0m\u001b[0;34m)\u001b[0m\u001b[0;34m\u001b[0m\u001b[0;34m\u001b[0m\u001b[0m\n",
            "\u001b[0;31mTypeError\u001b[0m: 'int' object is not iterable"
          ]
        }
      ]
    },
    {
      "cell_type": "code",
      "source": [
        "alist=input()\n",
        "for i in alist:\n",
        "  print(i,end='\\n')"
      ],
      "metadata": {
        "colab": {
          "base_uri": "https://localhost:8080/",
          "height": 312
        },
        "id": "x2ZQzdoL33aI",
        "outputId": "90e38a7c-4af3-4e04-bccf-d2a7702fffb6"
      },
      "execution_count": null,
      "outputs": [
        {
          "output_type": "error",
          "ename": "ValueError",
          "evalue": "ignored",
          "traceback": [
            "\u001b[0;31m---------------------------------------------------------------------------\u001b[0m",
            "\u001b[0;31mValueError\u001b[0m                                Traceback (most recent call last)",
            "\u001b[0;32m<ipython-input-18-f4551b69ffff>\u001b[0m in \u001b[0;36m<module>\u001b[0;34m()\u001b[0m\n\u001b[0;32m----> 1\u001b[0;31m \u001b[0malist\u001b[0m\u001b[0;34m=\u001b[0m\u001b[0minput\u001b[0m\u001b[0;34m(\u001b[0m\u001b[0mrange\u001b[0m\u001b[0;34m(\u001b[0m\u001b[0;36m100\u001b[0m\u001b[0;34m,\u001b[0m\u001b[0;36m990\u001b[0m\u001b[0;34m)\u001b[0m\u001b[0;34m)\u001b[0m\u001b[0;34m\u001b[0m\u001b[0;34m\u001b[0m\u001b[0m\n\u001b[0m\u001b[1;32m      2\u001b[0m \u001b[0;32mfor\u001b[0m \u001b[0mi\u001b[0m \u001b[0;32min\u001b[0m \u001b[0malist\u001b[0m\u001b[0;34m:\u001b[0m\u001b[0;34m\u001b[0m\u001b[0;34m\u001b[0m\u001b[0m\n\u001b[1;32m      3\u001b[0m   \u001b[0mprint\u001b[0m\u001b[0;34m(\u001b[0m\u001b[0mi\u001b[0m\u001b[0;34m,\u001b[0m\u001b[0mend\u001b[0m\u001b[0;34m=\u001b[0m\u001b[0;34m'\\n'\u001b[0m\u001b[0;34m)\u001b[0m\u001b[0;34m\u001b[0m\u001b[0;34m\u001b[0m\u001b[0m\n",
            "\u001b[0;32m/usr/local/lib/python3.7/dist-packages/ipykernel/kernelbase.py\u001b[0m in \u001b[0;36mraw_input\u001b[0;34m(self, prompt)\u001b[0m\n\u001b[1;32m    702\u001b[0m             \u001b[0mself\u001b[0m\u001b[0;34m.\u001b[0m\u001b[0m_parent_ident\u001b[0m\u001b[0;34m,\u001b[0m\u001b[0;34m\u001b[0m\u001b[0;34m\u001b[0m\u001b[0m\n\u001b[1;32m    703\u001b[0m             \u001b[0mself\u001b[0m\u001b[0;34m.\u001b[0m\u001b[0m_parent_header\u001b[0m\u001b[0;34m,\u001b[0m\u001b[0;34m\u001b[0m\u001b[0;34m\u001b[0m\u001b[0m\n\u001b[0;32m--> 704\u001b[0;31m             \u001b[0mpassword\u001b[0m\u001b[0;34m=\u001b[0m\u001b[0;32mFalse\u001b[0m\u001b[0;34m,\u001b[0m\u001b[0;34m\u001b[0m\u001b[0;34m\u001b[0m\u001b[0m\n\u001b[0m\u001b[1;32m    705\u001b[0m         )\n\u001b[1;32m    706\u001b[0m \u001b[0;34m\u001b[0m\u001b[0m\n",
            "\u001b[0;32m/usr/local/lib/python3.7/dist-packages/ipykernel/kernelbase.py\u001b[0m in \u001b[0;36m_input_request\u001b[0;34m(self, prompt, ident, parent, password)\u001b[0m\n\u001b[1;32m    720\u001b[0m \u001b[0;34m\u001b[0m\u001b[0m\n\u001b[1;32m    721\u001b[0m         \u001b[0;31m# Send the input request.\u001b[0m\u001b[0;34m\u001b[0m\u001b[0;34m\u001b[0m\u001b[0;34m\u001b[0m\u001b[0m\n\u001b[0;32m--> 722\u001b[0;31m         \u001b[0mcontent\u001b[0m \u001b[0;34m=\u001b[0m \u001b[0mjson_clean\u001b[0m\u001b[0;34m(\u001b[0m\u001b[0mdict\u001b[0m\u001b[0;34m(\u001b[0m\u001b[0mprompt\u001b[0m\u001b[0;34m=\u001b[0m\u001b[0mprompt\u001b[0m\u001b[0;34m,\u001b[0m \u001b[0mpassword\u001b[0m\u001b[0;34m=\u001b[0m\u001b[0mpassword\u001b[0m\u001b[0;34m)\u001b[0m\u001b[0;34m)\u001b[0m\u001b[0;34m\u001b[0m\u001b[0;34m\u001b[0m\u001b[0m\n\u001b[0m\u001b[1;32m    723\u001b[0m         self.session.send(self.stdin_socket, u'input_request', content, parent,\n\u001b[1;32m    724\u001b[0m                           ident=ident)\n",
            "\u001b[0;32m/usr/local/lib/python3.7/dist-packages/ipykernel/jsonutil.py\u001b[0m in \u001b[0;36mjson_clean\u001b[0;34m(obj)\u001b[0m\n\u001b[1;32m    189\u001b[0m         \u001b[0mout\u001b[0m \u001b[0;34m=\u001b[0m \u001b[0;34m{\u001b[0m\u001b[0;34m}\u001b[0m\u001b[0;34m\u001b[0m\u001b[0;34m\u001b[0m\u001b[0m\n\u001b[1;32m    190\u001b[0m         \u001b[0;32mfor\u001b[0m \u001b[0mk\u001b[0m\u001b[0;34m,\u001b[0m\u001b[0mv\u001b[0m \u001b[0;32min\u001b[0m \u001b[0miteritems\u001b[0m\u001b[0;34m(\u001b[0m\u001b[0mobj\u001b[0m\u001b[0;34m)\u001b[0m\u001b[0;34m:\u001b[0m\u001b[0;34m\u001b[0m\u001b[0;34m\u001b[0m\u001b[0m\n\u001b[0;32m--> 191\u001b[0;31m             \u001b[0mout\u001b[0m\u001b[0;34m[\u001b[0m\u001b[0municode_type\u001b[0m\u001b[0;34m(\u001b[0m\u001b[0mk\u001b[0m\u001b[0;34m)\u001b[0m\u001b[0;34m]\u001b[0m \u001b[0;34m=\u001b[0m \u001b[0mjson_clean\u001b[0m\u001b[0;34m(\u001b[0m\u001b[0mv\u001b[0m\u001b[0;34m)\u001b[0m\u001b[0;34m\u001b[0m\u001b[0;34m\u001b[0m\u001b[0m\n\u001b[0m\u001b[1;32m    192\u001b[0m         \u001b[0;32mreturn\u001b[0m \u001b[0mout\u001b[0m\u001b[0;34m\u001b[0m\u001b[0;34m\u001b[0m\u001b[0m\n\u001b[1;32m    193\u001b[0m     \u001b[0;32mif\u001b[0m \u001b[0misinstance\u001b[0m\u001b[0;34m(\u001b[0m\u001b[0mobj\u001b[0m\u001b[0;34m,\u001b[0m \u001b[0mdatetime\u001b[0m\u001b[0;34m)\u001b[0m\u001b[0;34m:\u001b[0m\u001b[0;34m\u001b[0m\u001b[0;34m\u001b[0m\u001b[0m\n",
            "\u001b[0;32m/usr/local/lib/python3.7/dist-packages/ipykernel/jsonutil.py\u001b[0m in \u001b[0;36mjson_clean\u001b[0;34m(obj)\u001b[0m\n\u001b[1;32m    195\u001b[0m \u001b[0;34m\u001b[0m\u001b[0m\n\u001b[1;32m    196\u001b[0m     \u001b[0;31m# we don't understand it, it's probably an unserializable object\u001b[0m\u001b[0;34m\u001b[0m\u001b[0;34m\u001b[0m\u001b[0;34m\u001b[0m\u001b[0m\n\u001b[0;32m--> 197\u001b[0;31m     \u001b[0;32mraise\u001b[0m \u001b[0mValueError\u001b[0m\u001b[0;34m(\u001b[0m\u001b[0;34m\"Can't clean for JSON: %r\"\u001b[0m \u001b[0;34m%\u001b[0m \u001b[0mobj\u001b[0m\u001b[0;34m)\u001b[0m\u001b[0;34m\u001b[0m\u001b[0;34m\u001b[0m\u001b[0m\n\u001b[0m",
            "\u001b[0;31mValueError\u001b[0m: Can't clean for JSON: range(100, 990)"
          ]
        }
      ]
    },
    {
      "cell_type": "code",
      "source": [
        "x=input(str())\n",
        "y=input(str())\n",
        "if x==y:\n",
        "  print(\"你猜對了 答案正是\",x)\n",
        "else:\n",
        "  print(\"猜錯了喔 其實是\",x)\n"
      ],
      "metadata": {
        "colab": {
          "base_uri": "https://localhost:8080/"
        },
        "id": "ex2DsE55-xFP",
        "outputId": "dbf036a6-38ba-4b80-c165-4dce5876d37a"
      },
      "execution_count": null,
      "outputs": [
        {
          "output_type": "stream",
          "name": "stdout",
          "text": [
            "5\n",
            "3\n",
            "猜錯了喔 其實是 5\n"
          ]
        }
      ]
    },
    {
      "cell_type": "code",
      "source": [
        "x=str(input())\n",
        "y=eval(input())\n",
        "z=eval(input())\n",
        "a=str(input())\n",
        "b=eval(input())\n",
        "c=eval(input())\n",
        "print('姓名','座號','分數',sep='\\t')\n",
        "print(x,y,z,sep='\\t')\n",
        "print(a,b,c,sep='\\t')"
      ],
      "metadata": {
        "colab": {
          "base_uri": "https://localhost:8080/"
        },
        "id": "zbmtFiHKvnSt",
        "outputId": "5f0483a3-cc0a-4f3c-dc0b-319f0aab0108"
      },
      "execution_count": null,
      "outputs": [
        {
          "output_type": "stream",
          "name": "stdout",
          "text": [
            "王曉明\n",
            "21\n",
            "70\n",
            "張阿三\n",
            "33\n",
            "90\n",
            "姓名\t座號\t分數\n",
            "王曉明\t21\t70\n",
            "張阿三\t33\t90\n"
          ]
        }
      ]
    },
    {
      "cell_type": "code",
      "source": [
        "#Wrong\n",
        "import math\n",
        "x=eval(input())\n",
        "y=eval(input())\n",
        "if x>y:\n",
        "  print(round((x**2-y**2)*math.pi,2))\n",
        "else:\n",
        "  print(round((y**2-x**2)*math.pi,2))\n",
        "\n"
      ],
      "metadata": {
        "colab": {
          "base_uri": "https://localhost:8080/"
        },
        "id": "fWSALTAIw8XJ",
        "outputId": "379040cc-53e2-4ae9-ffd3-ec22530a88e3"
      },
      "execution_count": null,
      "outputs": [
        {
          "output_type": "stream",
          "name": "stdout",
          "text": [
            "3\n",
            "2\n",
            "15.71\n"
          ]
        }
      ]
    },
    {
      "cell_type": "code",
      "source": [
        "#Accept\n",
        "import math\n",
        "x=eval(input())\n",
        "y=eval(input())\n",
        "if x>y:\n",
        "  print('%.2f'%((x**2-y**2)*math.pi))\n",
        "else:\n",
        "  print('%.2f'%((y**2-x**2)*math.pi))"
      ],
      "metadata": {
        "id": "c4YCvlwc9lVv"
      },
      "execution_count": null,
      "outputs": []
    },
    {
      "cell_type": "code",
      "source": [
        "#1002\n",
        "x=eval(input())\n",
        "y=eval(input())\n",
        "print('%.2f'%x,'+','%.2f'%y,'=','%.2f'%(x+y),sep=' ')"
      ],
      "metadata": {
        "colab": {
          "base_uri": "https://localhost:8080/"
        },
        "id": "pB2kpAT8_3Si",
        "outputId": "569a718c-5e41-4c61-cef3-7507f6e1ce8a"
      },
      "execution_count": null,
      "outputs": [
        {
          "output_type": "stream",
          "name": "stdout",
          "text": [
            "2.1\n",
            "3.2\n",
            "2.10 + 3.20 = 5.30\n"
          ]
        }
      ]
    },
    {
      "cell_type": "code",
      "source": [
        "#3008.1加到n\n",
        "x=eval(input())\n",
        "sum=0\n",
        "for i in range(1,x+1):\n",
        "  sum+=i\n",
        "print(sum)"
      ],
      "metadata": {
        "colab": {
          "base_uri": "https://localhost:8080/"
        },
        "id": "fhcwz6ypCMhI",
        "outputId": "741c9a71-a392-47ad-9351-996311c3dc21"
      },
      "execution_count": null,
      "outputs": [
        {
          "output_type": "stream",
          "name": "stdout",
          "text": [
            "5\n",
            "15\n"
          ]
        }
      ]
    },
    {
      "cell_type": "code",
      "source": [
        "#1178.三數關係判斷\n",
        "a=eval(input())\n",
        "b=eval(input())\n",
        "c=eval(input())\n",
        "\n",
        "if a>b and a>c:\n",
        "  print('True')\n",
        "else:\n",
        "  print('False')\n",
        "\n",
        "if a<b and a<c:\n",
        "  print('True')\n",
        "else:\n",
        "  print('False')\n",
        "\n",
        "if (a<b or a<c):\n",
        "  print('True')\n",
        "else:\n",
        "  print('False')\n",
        "\n",
        "if (a>b or a>c):\n",
        "  print('True')\n",
        "else:\n",
        "  print('False')\n"
      ],
      "metadata": {
        "colab": {
          "base_uri": "https://localhost:8080/"
        },
        "id": "7KjTU0xEDsSM",
        "outputId": "add47101-f917-48d0-b09e-8dc356e8d016"
      },
      "execution_count": null,
      "outputs": [
        {
          "output_type": "stream",
          "name": "stdout",
          "text": [
            "10\n",
            "20\n",
            "30\n",
            "False\n",
            "True\n",
            "True\n",
            "False\n"
          ]
        }
      ]
    },
    {
      "cell_type": "code",
      "source": [
        "#1406 阿宅的學習影片\n",
        "A,B =input().split()\n",
        "L=int(A)\n",
        "S=int(B)\n",
        "\n",
        "cnt=0\n",
        "\n",
        "while L>S:\n",
        "  S+=5\n",
        "  cnt+=1\n",
        "  while L<S:\n",
        "    S-=2\n",
        "    cnt+=1\n",
        "\n",
        "while L<S:\n",
        "  S-=2\n",
        "  cnt+=1\n",
        "  while L>S:\n",
        "    S+=5\n",
        "    cnt+=1\n",
        "\n",
        "print(cnt,end='\\n')"
      ],
      "metadata": {
        "colab": {
          "base_uri": "https://localhost:8080/"
        },
        "id": "L2_evpbFKQUe",
        "outputId": "30f86476-db96-4b18-bafe-e8809cc1ab31"
      },
      "execution_count": null,
      "outputs": [
        {
          "output_type": "stream",
          "name": "stdout",
          "text": [
            "21 27\n",
            "3\n"
          ]
        }
      ]
    },
    {
      "cell_type": "code",
      "source": [
        "L,S =input().split()\n",
        "print(L)\n",
        "print(S)"
      ],
      "metadata": {
        "colab": {
          "base_uri": "https://localhost:8080/"
        },
        "id": "Bw_nWtv9sbFP",
        "outputId": "94ebcb04-b30f-4d81-af22-376ecd4b1538"
      },
      "execution_count": null,
      "outputs": [
        {
          "output_type": "stream",
          "name": "stdout",
          "text": [
            "27 21\n",
            "27\n",
            "21\n"
          ]
        }
      ]
    },
    {
      "cell_type": "code",
      "source": [
        "def is_prime(m):\n",
        "    for i in range(2,m):\n",
        "        if m % i== 0:\n",
        "            return False\n",
        "    return True\n",
        " \n",
        "m = eval(input(''))\n",
        "for i in range(2,m+1):\n",
        "    i_is_prime = is_prime(i)\n",
        "    if i_is_prime:\n",
        "        print(i,'is prime')"
      ],
      "metadata": {
        "id": "F2EKXJz5i4s1",
        "outputId": "1f9e6f98-f488-4a73-99c8-9d71810b8fe4",
        "colab": {
          "base_uri": "https://localhost:8080/"
        }
      },
      "execution_count": null,
      "outputs": [
        {
          "output_type": "stream",
          "name": "stdout",
          "text": [
            "61\n",
            "2 is prime\n",
            "3 is prime\n",
            "5 is prime\n",
            "7 is prime\n",
            "11 is prime\n",
            "13 is prime\n",
            "17 is prime\n",
            "19 is prime\n",
            "23 is prime\n",
            "29 is prime\n",
            "31 is prime\n",
            "37 is prime\n",
            "41 is prime\n",
            "43 is prime\n",
            "47 is prime\n",
            "53 is prime\n",
            "59 is prime\n",
            "61 is prime\n"
          ]
        }
      ]
    },
    {
      "cell_type": "code",
      "source": [
        "import math\n",
        "score=eval(input())\n",
        "print('Original: ','%.2f'%score,sep='')\n",
        "print('Adjusted: ','%.2f'%(math.sqrt(score)*10),'(+',round(((math.sqrt(score)*10)-score)),')',sep='')"
      ],
      "metadata": {
        "colab": {
          "base_uri": "https://localhost:8080/"
        },
        "id": "vtbqzEvDhIp_",
        "outputId": "a7b501e7-b57d-4766-c962-d46dd394f2e6"
      },
      "execution_count": null,
      "outputs": [
        {
          "output_type": "stream",
          "name": "stdout",
          "text": [
            "36\n",
            "Original: 36.00\n",
            "Adjusted: 60.00(+24)\n"
          ]
        }
      ]
    },
    {
      "cell_type": "code",
      "source": [
        "import math\n",
        "A,B,C =input().split()\n",
        "l=float(A)\n",
        "w=float(B)\n",
        "r=float(C)\n",
        "\n",
        "pi=3.1415926\n",
        "\n",
        "area=pi*r*r*(270/360)\n",
        "darea=float(area)\n",
        "\n",
        "if w>=r and l>=r:\n",
        "  print('%.6f'%darea)\n",
        "elif (w>=r and l<=r):\n",
        "  print('%.6f'%(darea+((r-l)**2*pi*(90/360))))\n",
        "elif (w<=r and l>=r):\n",
        "  print('%.6f'%(darea+((r-w)**2*pi*(90/360))))\n",
        "elif (w<=r and l<=r) and ((w+l)>=r) :\n",
        "  print(('%.6f'%(darea+(((r-w)**2*pi*(90/360))+(r-l)**2*pi*(90/360)))))\n",
        "else:\n",
        "  print('')"
      ],
      "metadata": {
        "colab": {
          "base_uri": "https://localhost:8080/"
        },
        "id": "5WIpbKtXzusj",
        "outputId": "1930e515-5f9b-487c-dcce-cc652b1ad734"
      },
      "execution_count": null,
      "outputs": [
        {
          "output_type": "stream",
          "name": "stdout",
          "text": [
            "10.0 10.0 5.0\n",
            "58.904861\n"
          ]
        }
      ]
    },
    {
      "cell_type": "code",
      "source": [
        "n=input()\n",
        "t=int(n)\n",
        "\n",
        "if t<0 or t>1000000:\n",
        "  print('')\n",
        "else:\n",
        "  if (t % 7 == 0) or ('7' in n):\n",
        "    print('YES')\n",
        "  else:\n",
        "    print('NO')"
      ],
      "metadata": {
        "colab": {
          "base_uri": "https://localhost:8080/"
        },
        "id": "OAf1eG9JDhfS",
        "outputId": "11ac5795-054e-4d5b-ac7a-f22db128cbff"
      },
      "execution_count": null,
      "outputs": [
        {
          "output_type": "stream",
          "name": "stdout",
          "text": [
            "327\n",
            "YES\n"
          ]
        }
      ]
    },
    {
      "cell_type": "code",
      "source": [
        "x=eval(input())\n",
        "\n",
        "if ((x%3==0) and (x%5==0)) and (x%7!=0):\n",
        "  print('0')\n",
        "else:\n",
        "  print('1')"
      ],
      "metadata": {
        "id": "3Hqc4IbXIo3Y",
        "colab": {
          "base_uri": "https://localhost:8080/"
        },
        "outputId": "01a34103-47fd-4346-ae9b-29e8d43ecf36"
      },
      "execution_count": null,
      "outputs": [
        {
          "output_type": "stream",
          "name": "stdout",
          "text": [
            "4227\n",
            "1\n"
          ]
        }
      ]
    },
    {
      "cell_type": "code",
      "source": [
        "n=eval(input())\n",
        "\n",
        "for i in n:\n",
        "print([])"
      ],
      "metadata": {
        "id": "lzX0GzgA53ut"
      },
      "execution_count": null,
      "outputs": []
    },
    {
      "cell_type": "code",
      "source": [
        "x=str(input())\n",
        "sum=0\n",
        "y=int(x)\n",
        "for i in range(y):\n",
        "  sum+=(y[i])\n",
        "\n",
        "print(sum)"
      ],
      "metadata": {
        "colab": {
          "base_uri": "https://localhost:8080/",
          "height": 253
        },
        "id": "L__0ZEoF6Ls1",
        "outputId": "692b9a88-7400-4f4d-e285-e9ab757c4c88"
      },
      "execution_count": null,
      "outputs": [
        {
          "name": "stdout",
          "output_type": "stream",
          "text": [
            "123456\n"
          ]
        },
        {
          "output_type": "error",
          "ename": "TypeError",
          "evalue": "ignored",
          "traceback": [
            "\u001b[0;31m---------------------------------------------------------------------------\u001b[0m",
            "\u001b[0;31mTypeError\u001b[0m                                 Traceback (most recent call last)",
            "\u001b[0;32m<ipython-input-36-4f4e1df34d5c>\u001b[0m in \u001b[0;36m<module>\u001b[0;34m()\u001b[0m\n\u001b[1;32m      3\u001b[0m \u001b[0my\u001b[0m\u001b[0;34m=\u001b[0m\u001b[0mint\u001b[0m\u001b[0;34m(\u001b[0m\u001b[0mx\u001b[0m\u001b[0;34m)\u001b[0m\u001b[0;34m\u001b[0m\u001b[0;34m\u001b[0m\u001b[0m\n\u001b[1;32m      4\u001b[0m \u001b[0;32mfor\u001b[0m \u001b[0mi\u001b[0m \u001b[0;32min\u001b[0m \u001b[0mrange\u001b[0m\u001b[0;34m(\u001b[0m\u001b[0my\u001b[0m\u001b[0;34m)\u001b[0m\u001b[0;34m:\u001b[0m\u001b[0;34m\u001b[0m\u001b[0;34m\u001b[0m\u001b[0m\n\u001b[0;32m----> 5\u001b[0;31m   \u001b[0msum\u001b[0m\u001b[0;34m+=\u001b[0m\u001b[0;34m(\u001b[0m\u001b[0my\u001b[0m\u001b[0;34m[\u001b[0m\u001b[0mi\u001b[0m\u001b[0;34m]\u001b[0m\u001b[0;34m)\u001b[0m\u001b[0;34m\u001b[0m\u001b[0;34m\u001b[0m\u001b[0m\n\u001b[0m\u001b[1;32m      6\u001b[0m \u001b[0;34m\u001b[0m\u001b[0m\n\u001b[1;32m      7\u001b[0m \u001b[0mprint\u001b[0m\u001b[0;34m(\u001b[0m\u001b[0msum\u001b[0m\u001b[0;34m)\u001b[0m\u001b[0;34m\u001b[0m\u001b[0;34m\u001b[0m\u001b[0m\n",
            "\u001b[0;31mTypeError\u001b[0m: 'int' object is not subscriptable"
          ]
        }
      ]
    },
    {
      "cell_type": "code",
      "source": [
        "x=int(input())\n",
        "x=x*10\n",
        "ans=0\n",
        "\n",
        "while (x!=0):\n",
        "  ans+=x%(10)\n",
        "  x=x//10\n",
        "print(ans,sep='\\n')"
      ],
      "metadata": {
        "colab": {
          "base_uri": "https://localhost:8080/"
        },
        "id": "B7TfUzXT-c7H",
        "outputId": "f3aab403-9261-4b59-a55b-a5b034c75143"
      },
      "execution_count": null,
      "outputs": [
        {
          "output_type": "stream",
          "name": "stdout",
          "text": [
            "0012345\n",
            "15\n"
          ]
        }
      ]
    },
    {
      "cell_type": "code",
      "source": [
        "n=int(input())\n",
        "i=int(input())\n",
        "\n",
        "if 1<=i<=5:\n",
        "  print(n**i)\n",
        "else:\n",
        "  print('')"
      ],
      "metadata": {
        "colab": {
          "base_uri": "https://localhost:8080/"
        },
        "id": "4WdY30JXJSNs",
        "outputId": "edafbce9-f813-4558-d5b2-418e69f36c9f"
      },
      "execution_count": null,
      "outputs": [
        {
          "output_type": "stream",
          "name": "stdout",
          "text": [
            "7\n",
            "5\n",
            "16807\n"
          ]
        }
      ]
    },
    {
      "cell_type": "code",
      "source": [
        "n=eval(input())\n",
        "\n",
        "for i in range(1,n+1):\n",
        "  print(i)\n",
        "for i in range(1,n):\n",
        "  print(n-i)"
      ],
      "metadata": {
        "colab": {
          "base_uri": "https://localhost:8080/"
        },
        "id": "F2hwx1-LKTzB",
        "outputId": "35197159-3f51-4850-bf1b-2f28cc48fc13"
      },
      "execution_count": null,
      "outputs": [
        {
          "output_type": "stream",
          "name": "stdout",
          "text": [
            "10\n",
            "1\n",
            "2\n",
            "3\n",
            "4\n",
            "5\n",
            "6\n",
            "7\n",
            "8\n",
            "9\n",
            "10\n",
            "9\n",
            "8\n",
            "7\n",
            "6\n",
            "5\n",
            "4\n",
            "3\n",
            "2\n",
            "1\n"
          ]
        }
      ]
    },
    {
      "cell_type": "code",
      "source": [
        "score=int(input())\n",
        "\n",
        "if 95<=score<=100:\n",
        "  print('獎金 2000 元')\n",
        "elif 90<=score<=94:\n",
        "  print('獎金 1000 元')\n",
        "elif 80<=score<=89:\n",
        "  print('獎金 500 元')\n",
        "else:\n",
        "  print('獎金 0 元')\n"
      ],
      "metadata": {
        "colab": {
          "base_uri": "https://localhost:8080/"
        },
        "id": "XODAN3EZLl6O",
        "outputId": "03acdcbf-5201-4ad1-eb70-bc355f34814c"
      },
      "execution_count": null,
      "outputs": [
        {
          "output_type": "stream",
          "name": "stdout",
          "text": [
            "80\n",
            "獎金 1000 元\n"
          ]
        }
      ]
    },
    {
      "cell_type": "code",
      "source": [
        "song='''\n",
        "漢皇重色思傾國，御宇多年求不得。楊家有女初長成，養在深閨人未識。\n",
        "天生麗質難自棄，一朝選在君王側。回眸一笑百媚生，六宮粉黛無顏色。\n",
        "春寒賜浴華清池，溫泉水滑洗凝脂。侍兒扶起嬌無力，始是新承恩澤時。\n",
        "雲鬢花顏金步搖，芙蓉帳暖度春宵。春宵苦短日高起，從此君王不早朝。\n",
        "承歡侍宴無閒暇，春從春遊夜專夜。後宮佳麗三千人，三千寵愛在一身。\n",
        "金屋妝成嬌侍夜，玉樓宴罷醉和春。姊妹弟兄皆列土，可憐光彩生門戶。\n",
        "遂令天下父母心，不重生男重生女。驪宮高處入青雲，仙樂風飄處處聞。\n",
        "緩歌慢舞凝絲竹，盡日君王看不足。漁陽鼙鼓動地來，驚破霓裳羽衣曲。\n",
        "九重城闕煙塵生，千乘萬騎西南行。翠華搖搖行復止，西出都門百餘里。\n",
        "六軍不發無奈何，宛轉蛾眉馬前死。花鈿委地無人收，翠翹金雀玉搔頭。\n",
        "君王掩面救不得，回看血淚相和流。黃埃散漫風蕭索，雲棧縈紆登劍閣。\n",
        "峨嵋山下少人行，旌旗無光日色薄。蜀江水碧蜀山青，聖主朝朝暮暮情。\n",
        "行宮見月傷心色，夜雨聞鈴腸斷聲。天旋地轉回龍馭，到此躊躇不能去。\n",
        "馬嵬坡下泥土中，不見玉顏空死處。君臣相顧盡沾衣，東望都門信馬歸。\n",
        "歸來池苑皆依舊，太液芙蓉未央柳。芙蓉如面柳如眉，對此如何不淚垂。\n",
        "春風桃李花開日，秋雨梧桐葉落時。西宮南內多秋草，落葉滿階紅不掃。\n",
        "梨園弟子白髮新，椒房阿監青娥老。夕殿螢飛思悄然，孤燈挑盡未成眠。\n",
        "遲遲鐘鼓初長夜，耿耿星河欲曙天。鴛鴦瓦冷霜華重，翡翠衾寒誰與共。\n",
        "悠悠生死別經年，魂魄不曾來入夢。臨邛道士鴻都客，能以精誠致魂魄。\n",
        "爲感君王輾轉思，遂教方士殷勤覓。排空馭氣奔如電，昇天入地求之遍。\n",
        "上窮碧落下黃泉，兩處茫茫皆不見。忽聞海上有仙山，山在虛無縹渺間。\n",
        "樓閣玲瓏五雲起，其中綽約多仙子。中有一人字太真，雪膚花貌參差是。\n",
        "金闕西廂叩玉扃，轉教小玉報雙成。聞道漢家天子使，九華帳裏夢魂驚。\n",
        "攬衣推枕起徘徊，珠箔銀屏迤邐開。雲鬢半偏新睡覺，花冠不整下堂來。\n",
        "風吹仙袂飄飄舉，猶似霓裳羽衣舞。玉容寂寞淚闌干，梨花一枝春帶雨。\n",
        "含情凝睇謝君王，一別音容兩渺茫。昭陽殿裏恩愛絕，蓬萊宮中日月長。\n",
        "回頭下望人寰處，不見長安見塵霧。惟將舊物表深情，鈿合金釵寄將去。\n",
        "釵留一股合一扇，釵擘黃金合分鈿。但教心似金鈿堅，天上人間會相見。\n",
        "臨別殷勤重寄詞，詞中有誓兩心知。七月七日長生殿，夜半無人私語時。\n",
        "在天願作比翼鳥，在地願爲連理枝。天長地久有時盡，此恨綿綿無絕期。'''\n",
        "\n",
        "t=song.replace('，','').replace('。','').replace('\\n','')\n",
        "\n",
        "def numfind(t):\n",
        "    return max(t,key=t.count)\n",
        "print(numfind(t))\n",
        "print(t.count(numfind(t)))\n",
        "print(len(t))"
      ],
      "metadata": {
        "colab": {
          "base_uri": "https://localhost:8080/"
        },
        "id": "y_XQawjTzh6i",
        "outputId": "30d76461-0220-46e1-e285-72cb45792bd1"
      },
      "execution_count": null,
      "outputs": [
        {
          "output_type": "stream",
          "name": "stdout",
          "text": [
            "不\n",
            "14\n",
            "840\n"
          ]
        }
      ]
    },
    {
      "cell_type": "code",
      "source": [
        "total=0\n",
        "i=0\n",
        "while True:\n",
        "  x=eval(input())\n",
        "  if x==-1:\n",
        "    break\n",
        "  else:\n",
        "    total=total+x\n",
        "    i=i+1\n",
        "    avg=(total)/i\n",
        "print(total)\n",
        "print('%.1f'%avg)\n"
      ],
      "metadata": {
        "colab": {
          "base_uri": "https://localhost:8080/"
        },
        "id": "ftLKG9Ee6bpI",
        "outputId": "9f0c9ea8-eef4-4dfb-a0a3-5d43bf1baad7"
      },
      "execution_count": null,
      "outputs": [
        {
          "output_type": "stream",
          "name": "stdout",
          "text": [
            "10\n",
            "20\n",
            "30\n",
            "40\n",
            "50\n",
            "-1\n",
            "150\n",
            "30.0\n"
          ]
        }
      ]
    },
    {
      "cell_type": "code",
      "source": [
        "x=eval(input())\n",
        "for i in range(1,x+1):\n",
        "  y=input()\n",
        "  lst=[y]\n",
        "print(lst)\n",
        "\n",
        "print(Max(y),' ',index(Max(y)))\n",
        "print(Min(y),' ',index(Min(y)))"
      ],
      "metadata": {
        "colab": {
          "base_uri": "https://localhost:8080/"
        },
        "id": "fd4_VUa_Aa9G",
        "outputId": "8eaa963f-2ab3-4c27-dd72-b3d77157d1af"
      },
      "execution_count": null,
      "outputs": [
        {
          "output_type": "stream",
          "name": "stdout",
          "text": [
            "5\n",
            "1\n",
            "2\n",
            "3\n",
            "4\n",
            "5\n",
            "['5']\n"
          ]
        }
      ]
    },
    {
      "cell_type": "code",
      "source": [
        "#1201. 雞兔同籠\n",
        "#M,N=代表頭的數量和脚的數量\n",
        "M,N=map(int,input().split())\n",
        "\n",
        "c=0\n",
        "#r=0\n",
        "#M=c+r\n",
        "#N=2*c+4*(M-c)\n",
        "\n",
        "while ((2*c)+(4*(M-c)))!=N:\n",
        "  c+=1\n",
        "\n",
        "  if (((2*c)+(4*(M-c)))%N)==0:\n",
        "    print('YES')\n",
        "    print(c,M-c)\n",
        "  else:\n",
        "    print('NO')\n",
        "\n",
        "\n",
        "\n"
      ],
      "metadata": {
        "id": "tEeukdo3No3Z"
      },
      "execution_count": null,
      "outputs": []
    },
    {
      "cell_type": "code",
      "source": [
        ""
      ],
      "metadata": {
        "id": "cI_IBKfBmA98"
      },
      "execution_count": null,
      "outputs": []
    },
    {
      "cell_type": "code",
      "source": [
        "def app ( a , b ):\n",
        "   x=(4*a-b)/ 2\n",
        "    if  a!= 0 and ( 4 *a-b)%(x* 2 )== 0 :\n",
        "      y=a-x\n",
        "       if  x< 0   or  y< 0 :\n",
        "          print ('NO')\n",
        "       else :\n",
        "          print ('YES')\n",
        "          print (x,y)\n",
        "    else :\n",
        "        print ('NO')\n",
        "a= int ( input ( \"請輸入雞和兔的總數:\" ))\n",
        "b= int ( input ( \"請輸入雞和兔的腳數:\" ))\n",
        "app(a,b）"
      ],
      "metadata": {
        "colab": {
          "base_uri": "https://localhost:8080/",
          "height": 132
        },
        "id": "CkjJn_wsg3sI",
        "outputId": "f72a4064-9878-4f38-cf6c-c181e29db80b"
      },
      "execution_count": null,
      "outputs": [
        {
          "output_type": "error",
          "ename": "IndentationError",
          "evalue": "ignored",
          "traceback": [
            "\u001b[0;36m  File \u001b[0;32m\"<ipython-input-42-32278913ac59>\"\u001b[0;36m, line \u001b[0;32m3\u001b[0m\n\u001b[0;31m    if  a!= 0 and ( 4 *a-b)%(x* 2 )== 0 :\u001b[0m\n\u001b[0m    ^\u001b[0m\n\u001b[0;31mIndentationError\u001b[0m\u001b[0;31m:\u001b[0m unexpected indent\n"
          ]
        }
      ]
    },
    {
      "cell_type": "code",
      "source": [
        "a,b=map(float,input().split())\n",
        "c,d=map(float,input().split())\n",
        "e,f=map(float,input().split())\n",
        "A_side=((a-c)**2+(b-d)**2)**0.5\n",
        "B_side=((c-e)**2+(d-f)**2)**0.5\n",
        "C_side=((e-a)**2+(f-b)**2)**0.5\n",
        "s=((A_side)+(B_side)+(C_side))/2\n",
        "area=(s*(s-A_side)*(s-B_side)*(s-C_side))**0.5\n",
        "print('%.2f'%area)"
      ],
      "metadata": {
        "colab": {
          "base_uri": "https://localhost:8080/"
        },
        "id": "GjR_QD1EmIN9",
        "outputId": "82080161-8c4e-4a4d-9ade-0c3058eefe22"
      },
      "execution_count": null,
      "outputs": [
        {
          "output_type": "stream",
          "name": "stdout",
          "text": [
            "1.3 2.5\n",
            "3 2\n",
            "0 0\n",
            "2.45\n"
          ]
        }
      ]
    },
    {
      "cell_type": "code",
      "source": [
        "a=eval(input())\n",
        "b=eval(input())\n",
        "c=eval(input())\n",
        "d=eval(input())\n",
        "e=eval(input())\n",
        "\n",
        "v1 = (a-2*e)*d*(c-2*e)\n",
        "v2 = (b-2*e)*d*(c-2*e)\n",
        "v3 = (a-2*e)*d*(b-2*e)\n",
        "volume = a*b*c - 2*(v1+v2+v3)\n",
        "\n",
        "a1 = 2*(2*(a-2*e)+2*(b-2*e))*d\n",
        "a2 = 2*(2*(c-2*e)+2*(b-2*e))*d\n",
        "a3 = 2*(2*(a-2*e)+2*(c-2*e))*d\n",
        "area = 2*(a*b+b*c+a*c)+a1+a2+a3\n",
        "\n",
        "print(area)\n",
        "print(volume)\n",
        "\n",
        "\n"
      ],
      "metadata": {
        "colab": {
          "base_uri": "https://localhost:8080/"
        },
        "id": "GaU-3D8ep-E4",
        "outputId": "8918027f-2d0e-4f31-cf74-931403bec446"
      },
      "execution_count": null,
      "outputs": [
        {
          "output_type": "stream",
          "name": "stdout",
          "text": [
            "6\n",
            "8\n",
            "10\n",
            "1\n",
            "2\n",
            "392\n",
            "472\n"
          ]
        }
      ]
    },
    {
      "cell_type": "code",
      "source": [
        "n=eval(input())\n",
        "\n",
        "if n<0 or n>12:\n",
        "  print('')\n",
        "elif n==0:\n",
        "  print('1')\n",
        "else:\n",
        "  for i in range(1,n):\n",
        "    n=i*n\n",
        "  print(n)"
      ],
      "metadata": {
        "colab": {
          "base_uri": "https://localhost:8080/"
        },
        "id": "649GZZhm7FMo",
        "outputId": "bf7d1009-1bec-40b2-e00c-096a3ba29cef"
      },
      "execution_count": null,
      "outputs": [
        {
          "output_type": "stream",
          "name": "stdout",
          "text": [
            "12\n",
            "479001600\n"
          ]
        }
      ]
    },
    {
      "cell_type": "code",
      "source": [
        "#3007. 最大的3個數字\n",
        "x=eval(input())\n",
        "y=eval(input())\n",
        "z=eval(input())\n",
        "\n",
        "print(max(x,y,z))"
      ],
      "metadata": {
        "colab": {
          "base_uri": "https://localhost:8080/"
        },
        "id": "hX4TSTPd-JkE",
        "outputId": "bc78715f-afc9-4daa-ab4b-1d92abb7b93a"
      },
      "execution_count": null,
      "outputs": [
        {
          "output_type": "stream",
          "name": "stdout",
          "text": [
            "99\n",
            "66\n",
            "57\n",
            "99\n"
          ]
        }
      ]
    },
    {
      "cell_type": "code",
      "source": [
        "#1037. i序列\n",
        "\n",
        "n=eval(input())\n",
        "\n",
        "for i in range(1,n+1):\n",
        "    for j in range(1, i+1):\n",
        "        print(j, end=\"\")\n"
      ],
      "metadata": {
        "colab": {
          "base_uri": "https://localhost:8080/"
        },
        "id": "88oVTJYl-fZS",
        "outputId": "688fe436-9ac1-4ae3-9767-cfcb458e1a7e"
      },
      "execution_count": null,
      "outputs": [
        {
          "output_type": "stream",
          "name": "stdout",
          "text": [
            "5\n",
            "112123123412345"
          ]
        }
      ]
    },
    {
      "cell_type": "code",
      "source": [
        "#1014. 1加到n II\n",
        "n=eval(input())\n",
        "sum = 0\n",
        "for i in range(1,n):\n",
        "  sum+=i\n",
        "  print(i,'+',sep='',end='')\n",
        "print(n,end='')\n",
        "print(' =',sum+n,sep=' ')"
      ],
      "metadata": {
        "colab": {
          "base_uri": "https://localhost:8080/"
        },
        "id": "BxqGEVl0D-A9",
        "outputId": "5461edc5-d8d1-4745-b192-650632b13a08"
      },
      "execution_count": null,
      "outputs": [
        {
          "output_type": "stream",
          "name": "stdout",
          "text": [
            "5\n",
            "1+2+3+4+5 = 15\n"
          ]
        }
      ]
    },
    {
      "cell_type": "code",
      "source": [
        "#3064. List 手動/自動 排序\n",
        "shelf = [\"Book1\", \"Book2\", \"Book6\", \"Book4\", \"Book5\"]\n",
        "\n",
        "shelf.append(\"Book3\")\n",
        "print(sorted(shelf))"
      ],
      "metadata": {
        "colab": {
          "base_uri": "https://localhost:8080/"
        },
        "id": "c7b2dZJyHXEv",
        "outputId": "afc81ac8-7724-4f85-d571-2cbe54af55b3"
      },
      "execution_count": null,
      "outputs": [
        {
          "output_type": "stream",
          "name": "stdout",
          "text": [
            "['Book1', 'Book2', 'Book3', 'Book4', 'Book5', 'Book6']\n"
          ]
        }
      ]
    },
    {
      "cell_type": "code",
      "source": [
        "#1030. 一維陣列/容器小練習 I\n",
        "ARR=[]\n",
        "for i in range(5):\n",
        "    n=int(input())\n",
        "    ARR.append(n)\n",
        "for j in range(5):\n",
        "    print(ARR[j])"
      ],
      "metadata": {
        "colab": {
          "base_uri": "https://localhost:8080/"
        },
        "id": "YqXeKp1sMfQP",
        "outputId": "9fcd7a47-1143-49ce-e824-b9754d2c9267"
      },
      "execution_count": null,
      "outputs": [
        {
          "output_type": "stream",
          "name": "stdout",
          "text": [
            "5\n",
            "4\n",
            "3\n",
            "2\n",
            "1\n",
            "5\n",
            "4\n",
            "3\n",
            "2\n",
            "1\n"
          ]
        }
      ]
    },
    {
      "cell_type": "code",
      "source": [
        "#3062. List-append pop練習 I\n",
        "\n",
        "s=[]\n",
        "x=eval(input())\n",
        "for i in range(1,x+1):\n",
        "  s.append(i)\n",
        "reversed(s)\n",
        "\n",
        "for i in range(1,x+1):\n",
        "  print('data',s.pop())\n",
        "\n",
        "print('')\n",
        "\n",
        "for i in range(1,x+1):\n",
        "  s.append(i)\n",
        "  print('data',s.pop())\n"
      ],
      "metadata": {
        "colab": {
          "base_uri": "https://localhost:8080/"
        },
        "id": "Nl5mOGzUO3Y0",
        "outputId": "e019bf6c-cb98-474f-a3c8-af99966fc0ae"
      },
      "execution_count": null,
      "outputs": [
        {
          "output_type": "stream",
          "name": "stdout",
          "text": [
            "5\n",
            "data 5\n",
            "data 4\n",
            "data 3\n",
            "data 2\n",
            "data 1\n",
            "\n",
            "data 1\n",
            "data 2\n",
            "data 3\n",
            "data 4\n",
            "data 5\n"
          ]
        }
      ]
    },
    {
      "cell_type": "code",
      "source": [
        "#3028. 三角形判斷I\n",
        "a=eval(input())\n",
        "b=eval(input())\n",
        "c=eval(input())\n",
        "\n",
        "if (a+b)<=c or (b+c)<=a or (c+a)<=b:\n",
        "  print('False')\n",
        "else:\n",
        "  if ((a**2+b**2)==c**2) or ((b**2+c**2)==a**2) or ((c**2+a**2)==b**2):\n",
        "    print('True\\nRight Triangle')\n",
        "  else:\n",
        "    print('True\\n''Non-Right Triangle')"
      ],
      "metadata": {
        "colab": {
          "base_uri": "https://localhost:8080/"
        },
        "id": "_h_qrk9QWAUm",
        "outputId": "96729ef2-690e-4f14-df47-57a1a5ab977f"
      },
      "execution_count": null,
      "outputs": [
        {
          "output_type": "stream",
          "name": "stdout",
          "text": [
            "10\n",
            "10\n",
            "10\n",
            "True\n",
            "non-Right Triangle\n"
          ]
        }
      ]
    },
    {
      "cell_type": "code",
      "source": [
        "#1421. 十二生肖年份表\n",
        "dic =   {4:'鼠',5:'牛',6:'虎',7:'兔',8:'龍',9:'蛇',10:'馬',11:'羊',0:'猴',1:'雞',2:'狗',3:'豬'}\n",
        " \n",
        "def Year_Checker(n,minguo = False):  #預設西元年(minguo)\n",
        "    #n必須是整數(int)\n",
        "    #minguo(代表民國年)\n",
        "    if minguo == False:\n",
        "        index = n % 12\n",
        "        return dic[index]\n",
        "    elif minguo == True:\n",
        "        index = (n+1911) % 12\n",
        "        return dic[index]\n",
        "\n",
        "x=input()\n",
        "\n",
        "b=Year_Checker(x,False)\n",
        "print(b)\n"
      ],
      "metadata": {
        "colab": {
          "base_uri": "https://localhost:8080/",
          "height": 358
        },
        "id": "c8A0NdvtcaRl",
        "outputId": "394e2cd9-dc17-4bbc-9953-73123ee9c135"
      },
      "execution_count": null,
      "outputs": [
        {
          "name": "stdout",
          "output_type": "stream",
          "text": [
            "73\n"
          ]
        },
        {
          "output_type": "error",
          "ename": "TypeError",
          "evalue": "ignored",
          "traceback": [
            "\u001b[0;31m---------------------------------------------------------------------------\u001b[0m",
            "\u001b[0;31mTypeError\u001b[0m                                 Traceback (most recent call last)",
            "\u001b[0;32m<ipython-input-173-e69f4cfa807f>\u001b[0m in \u001b[0;36m<module>\u001b[0;34m()\u001b[0m\n\u001b[1;32m     14\u001b[0m \u001b[0mx\u001b[0m\u001b[0;34m=\u001b[0m\u001b[0minput\u001b[0m\u001b[0;34m(\u001b[0m\u001b[0;34m)\u001b[0m\u001b[0;34m\u001b[0m\u001b[0;34m\u001b[0m\u001b[0m\n\u001b[1;32m     15\u001b[0m \u001b[0;34m\u001b[0m\u001b[0m\n\u001b[0;32m---> 16\u001b[0;31m \u001b[0mb\u001b[0m\u001b[0;34m=\u001b[0m\u001b[0mYear_Checker\u001b[0m\u001b[0;34m(\u001b[0m\u001b[0mx\u001b[0m\u001b[0;34m,\u001b[0m\u001b[0;32mFalse\u001b[0m\u001b[0;34m)\u001b[0m\u001b[0;34m\u001b[0m\u001b[0;34m\u001b[0m\u001b[0m\n\u001b[0m\u001b[1;32m     17\u001b[0m \u001b[0mprint\u001b[0m\u001b[0;34m(\u001b[0m\u001b[0mb\u001b[0m\u001b[0;34m)\u001b[0m\u001b[0;34m\u001b[0m\u001b[0;34m\u001b[0m\u001b[0m\n",
            "\u001b[0;32m<ipython-input-173-e69f4cfa807f>\u001b[0m in \u001b[0;36mYear_Checker\u001b[0;34m(n, minguo)\u001b[0m\n\u001b[1;32m      6\u001b[0m     \u001b[0;31m#minguo(代表民國年)\u001b[0m\u001b[0;34m\u001b[0m\u001b[0;34m\u001b[0m\u001b[0;34m\u001b[0m\u001b[0m\n\u001b[1;32m      7\u001b[0m     \u001b[0;32mif\u001b[0m \u001b[0mminguo\u001b[0m \u001b[0;34m==\u001b[0m \u001b[0;32mFalse\u001b[0m\u001b[0;34m:\u001b[0m\u001b[0;34m\u001b[0m\u001b[0;34m\u001b[0m\u001b[0m\n\u001b[0;32m----> 8\u001b[0;31m         \u001b[0mindex\u001b[0m \u001b[0;34m=\u001b[0m \u001b[0mn\u001b[0m \u001b[0;34m%\u001b[0m \u001b[0;36m12\u001b[0m\u001b[0;34m\u001b[0m\u001b[0;34m\u001b[0m\u001b[0m\n\u001b[0m\u001b[1;32m      9\u001b[0m         \u001b[0;32mreturn\u001b[0m \u001b[0mdic\u001b[0m\u001b[0;34m[\u001b[0m\u001b[0mindex\u001b[0m\u001b[0;34m]\u001b[0m\u001b[0;34m\u001b[0m\u001b[0;34m\u001b[0m\u001b[0m\n\u001b[1;32m     10\u001b[0m     \u001b[0;32melif\u001b[0m \u001b[0mminguo\u001b[0m \u001b[0;34m==\u001b[0m \u001b[0;32mTrue\u001b[0m\u001b[0;34m:\u001b[0m\u001b[0;34m\u001b[0m\u001b[0;34m\u001b[0m\u001b[0m\n",
            "\u001b[0;31mTypeError\u001b[0m: not all arguments converted during string formatting"
          ]
        }
      ]
    },
    {
      "cell_type": "code",
      "source": [
        "#3066. 字典密碼\n",
        "# 這是一個字典（密碼簿）\n",
        "# print 出內容\n",
        "# 5-4-2.2-'1'-\"Six\"\n",
        "passbook = {'1':\" Wor\", 2.2:\"gic\", \"Three\":\"rd\", 4:\" Ma\", \"Six\":\"ld.\", 5:\"A\"}\n",
        "\n",
        "print(passbook[5],passbook[4]+passbook[2.2],passbook['1']+passbook[\"Six\"],sep='\\n')"
      ],
      "metadata": {
        "colab": {
          "base_uri": "https://localhost:8080/"
        },
        "id": "JkNdJSgJjTR-",
        "outputId": "f338756b-b7bc-4344-dc29-6c6f4ecddf71"
      },
      "execution_count": null,
      "outputs": [
        {
          "output_type": "stream",
          "name": "stdout",
          "text": [
            "A Magic World.\n"
          ]
        }
      ]
    },
    {
      "cell_type": "code",
      "source": [
        "def get_final_answer(score):\n",
        "  \n",
        "  score=int((score**0.5)*10)\n",
        "  return score\n",
        "\n",
        "ans = get_final_answer(35)\n",
        "print(ans)"
      ],
      "metadata": {
        "colab": {
          "base_uri": "https://localhost:8080/"
        },
        "id": "iVeFW9mUvVuZ",
        "outputId": "b42b96af-09f8-4836-9356-58af96266d10"
      },
      "execution_count": 13,
      "outputs": [
        {
          "output_type": "stream",
          "name": "stdout",
          "text": [
            "59\n"
          ]
        }
      ]
    },
    {
      "cell_type": "code",
      "source": [
        "def avg(st):\n",
        "    ans = sum(st)/len(st)\n",
        "    #計算平均\n",
        "    return ans\n",
        "\n",
        "st = [[76,73,85],[88,84,76],[92,82,92],[82,91,85],[72,74,73]]\n",
        "\n",
        "print(st)\n",
        "\n",
        "import numpy as np\n",
        "\n",
        "for i in range(len(st)):\n",
        "    print('student', i+1)\n",
        "    #print(st[i])\n",
        "    for j in range(len(st[i])):\n",
        "        print(\" %d: %d\"%(j+1,st[i][j]))\n",
        "    print(\" sum: %d\"%(sum(st[i])))\n",
        "    print(\" avg: %.2f\"%(avg(st[i])))\n",
        "\n",
        "print(\" total: %d\"%(np.sum(st)))\n",
        "print(\" highest avg: %d\"%np.max(avg(st[i])))"
      ],
      "metadata": {
        "colab": {
          "base_uri": "https://localhost:8080/"
        },
        "id": "wZVdsK0eLKhu",
        "outputId": "748fc32d-2966-4df4-f348-bce77eba824f"
      },
      "execution_count": 63,
      "outputs": [
        {
          "output_type": "stream",
          "name": "stdout",
          "text": [
            "[[76, 73, 85], [88, 84, 76], [92, 82, 92], [82, 91, 85], [72, 74, 73]]\n",
            "student 1\n",
            " 1: 76\n",
            " 2: 73\n",
            " 3: 85\n",
            " sum: 234\n",
            " avg: 78.00\n",
            "student 2\n",
            " 1: 88\n",
            " 2: 84\n",
            " 3: 76\n",
            " sum: 248\n",
            " avg: 82.67\n",
            "student 3\n",
            " 1: 92\n",
            " 2: 82\n",
            " 3: 92\n",
            " sum: 266\n",
            " avg: 88.67\n",
            "student 4\n",
            " 1: 82\n",
            " 2: 91\n",
            " 3: 85\n",
            " sum: 258\n",
            " avg: 86.00\n",
            "student 5\n",
            " 1: 72\n",
            " 2: 74\n",
            " 3: 73\n",
            " sum: 219\n",
            " avg: 73.00\n",
            " total: 1225\n",
            " highest avg: 73\n"
          ]
        }
      ]
    },
    {
      "cell_type": "code",
      "source": [
        "#1018. 判斷成績是否及格IV\n",
        "\n",
        "def score_pass(score):\n",
        "  if 60<= score <=100:\n",
        "    return 'pass'\n",
        "  else:\n",
        "    return 'fail'\n",
        "\n",
        "x=eval(input())\n",
        "print(score_pass(x))\n",
        "#--------------------------------------------\n",
        "while True:\n",
        "  z=input()\n",
        "  if z=='y':\n",
        "    t=eval(input())\n",
        "    print(score_pass(t))\n",
        "  else:\n",
        "    break\n",
        "\n",
        "\n",
        "  "
      ],
      "metadata": {
        "colab": {
          "base_uri": "https://localhost:8080/",
          "height": 729
        },
        "id": "Ql4LCHWjYcOF",
        "outputId": "14ef9481-4fdf-4b4e-a1cd-d1c83211b6de"
      },
      "execution_count": 41,
      "outputs": [
        {
          "output_type": "stream",
          "name": "stdout",
          "text": [
            "60\n",
            "pass\n",
            "y\n",
            "59\n",
            "fail\n",
            "y\n",
            "88\n",
            "pass\n",
            "y\n",
            "12\n",
            "fail\n"
          ]
        },
        {
          "output_type": "error",
          "ename": "KeyboardInterrupt",
          "evalue": "ignored",
          "traceback": [
            "\u001b[0;31m---------------------------------------------------------------------------\u001b[0m",
            "\u001b[0;31mKeyboardInterrupt\u001b[0m                         Traceback (most recent call last)",
            "\u001b[0;32m/usr/local/lib/python3.7/dist-packages/ipykernel/kernelbase.py\u001b[0m in \u001b[0;36m_input_request\u001b[0;34m(self, prompt, ident, parent, password)\u001b[0m\n\u001b[1;32m    728\u001b[0m             \u001b[0;32mtry\u001b[0m\u001b[0;34m:\u001b[0m\u001b[0;34m\u001b[0m\u001b[0;34m\u001b[0m\u001b[0m\n\u001b[0;32m--> 729\u001b[0;31m                 \u001b[0mident\u001b[0m\u001b[0;34m,\u001b[0m \u001b[0mreply\u001b[0m \u001b[0;34m=\u001b[0m \u001b[0mself\u001b[0m\u001b[0;34m.\u001b[0m\u001b[0msession\u001b[0m\u001b[0;34m.\u001b[0m\u001b[0mrecv\u001b[0m\u001b[0;34m(\u001b[0m\u001b[0mself\u001b[0m\u001b[0;34m.\u001b[0m\u001b[0mstdin_socket\u001b[0m\u001b[0;34m,\u001b[0m \u001b[0;36m0\u001b[0m\u001b[0;34m)\u001b[0m\u001b[0;34m\u001b[0m\u001b[0;34m\u001b[0m\u001b[0m\n\u001b[0m\u001b[1;32m    730\u001b[0m             \u001b[0;32mexcept\u001b[0m \u001b[0mException\u001b[0m\u001b[0;34m:\u001b[0m\u001b[0;34m\u001b[0m\u001b[0;34m\u001b[0m\u001b[0m\n",
            "\u001b[0;32m/usr/local/lib/python3.7/dist-packages/jupyter_client/session.py\u001b[0m in \u001b[0;36mrecv\u001b[0;34m(self, socket, mode, content, copy)\u001b[0m\n\u001b[1;32m    802\u001b[0m         \u001b[0;32mtry\u001b[0m\u001b[0;34m:\u001b[0m\u001b[0;34m\u001b[0m\u001b[0;34m\u001b[0m\u001b[0m\n\u001b[0;32m--> 803\u001b[0;31m             \u001b[0mmsg_list\u001b[0m \u001b[0;34m=\u001b[0m \u001b[0msocket\u001b[0m\u001b[0;34m.\u001b[0m\u001b[0mrecv_multipart\u001b[0m\u001b[0;34m(\u001b[0m\u001b[0mmode\u001b[0m\u001b[0;34m,\u001b[0m \u001b[0mcopy\u001b[0m\u001b[0;34m=\u001b[0m\u001b[0mcopy\u001b[0m\u001b[0;34m)\u001b[0m\u001b[0;34m\u001b[0m\u001b[0;34m\u001b[0m\u001b[0m\n\u001b[0m\u001b[1;32m    804\u001b[0m         \u001b[0;32mexcept\u001b[0m \u001b[0mzmq\u001b[0m\u001b[0;34m.\u001b[0m\u001b[0mZMQError\u001b[0m \u001b[0;32mas\u001b[0m \u001b[0me\u001b[0m\u001b[0;34m:\u001b[0m\u001b[0;34m\u001b[0m\u001b[0;34m\u001b[0m\u001b[0m\n",
            "\u001b[0;32m/usr/local/lib/python3.7/dist-packages/zmq/sugar/socket.py\u001b[0m in \u001b[0;36mrecv_multipart\u001b[0;34m(self, flags, copy, track)\u001b[0m\n\u001b[1;32m    726\u001b[0m         \"\"\"\n\u001b[0;32m--> 727\u001b[0;31m         \u001b[0mparts\u001b[0m \u001b[0;34m=\u001b[0m \u001b[0;34m[\u001b[0m\u001b[0mself\u001b[0m\u001b[0;34m.\u001b[0m\u001b[0mrecv\u001b[0m\u001b[0;34m(\u001b[0m\u001b[0mflags\u001b[0m\u001b[0;34m,\u001b[0m \u001b[0mcopy\u001b[0m\u001b[0;34m=\u001b[0m\u001b[0mcopy\u001b[0m\u001b[0;34m,\u001b[0m \u001b[0mtrack\u001b[0m\u001b[0;34m=\u001b[0m\u001b[0mtrack\u001b[0m\u001b[0;34m)\u001b[0m\u001b[0;34m]\u001b[0m\u001b[0;34m\u001b[0m\u001b[0;34m\u001b[0m\u001b[0m\n\u001b[0m\u001b[1;32m    728\u001b[0m         \u001b[0;31m# have first part already, only loop while more to receive\u001b[0m\u001b[0;34m\u001b[0m\u001b[0;34m\u001b[0m\u001b[0;34m\u001b[0m\u001b[0m\n",
            "\u001b[0;32mzmq/backend/cython/socket.pyx\u001b[0m in \u001b[0;36mzmq.backend.cython.socket.Socket.recv\u001b[0;34m()\u001b[0m\n",
            "\u001b[0;32mzmq/backend/cython/socket.pyx\u001b[0m in \u001b[0;36mzmq.backend.cython.socket.Socket.recv\u001b[0;34m()\u001b[0m\n",
            "\u001b[0;32mzmq/backend/cython/socket.pyx\u001b[0m in \u001b[0;36mzmq.backend.cython.socket._recv_copy\u001b[0;34m()\u001b[0m\n",
            "\u001b[0;32m/usr/local/lib/python3.7/dist-packages/zmq/backend/cython/checkrc.pxd\u001b[0m in \u001b[0;36mzmq.backend.cython.checkrc._check_rc\u001b[0;34m()\u001b[0m\n",
            "\u001b[0;31mKeyboardInterrupt\u001b[0m: ",
            "\nDuring handling of the above exception, another exception occurred:\n",
            "\u001b[0;31mKeyboardInterrupt\u001b[0m                         Traceback (most recent call last)",
            "\u001b[0;32m<ipython-input-41-d4f78c52af00>\u001b[0m in \u001b[0;36m<module>\u001b[0;34m()\u001b[0m\n\u001b[1;32m     11\u001b[0m \u001b[0;31m#--------------------------------------------\u001b[0m\u001b[0;34m\u001b[0m\u001b[0;34m\u001b[0m\u001b[0;34m\u001b[0m\u001b[0m\n\u001b[1;32m     12\u001b[0m \u001b[0;32mwhile\u001b[0m \u001b[0;32mTrue\u001b[0m\u001b[0;34m:\u001b[0m\u001b[0;34m\u001b[0m\u001b[0;34m\u001b[0m\u001b[0m\n\u001b[0;32m---> 13\u001b[0;31m   \u001b[0mz\u001b[0m\u001b[0;34m=\u001b[0m\u001b[0minput\u001b[0m\u001b[0;34m(\u001b[0m\u001b[0;34m)\u001b[0m\u001b[0;34m\u001b[0m\u001b[0;34m\u001b[0m\u001b[0m\n\u001b[0m\u001b[1;32m     14\u001b[0m   \u001b[0;32mif\u001b[0m \u001b[0mz\u001b[0m\u001b[0;34m==\u001b[0m\u001b[0;34m'y'\u001b[0m\u001b[0;34m:\u001b[0m\u001b[0;34m\u001b[0m\u001b[0;34m\u001b[0m\u001b[0m\n\u001b[1;32m     15\u001b[0m     \u001b[0mt\u001b[0m\u001b[0;34m=\u001b[0m\u001b[0meval\u001b[0m\u001b[0;34m(\u001b[0m\u001b[0minput\u001b[0m\u001b[0;34m(\u001b[0m\u001b[0;34m)\u001b[0m\u001b[0;34m)\u001b[0m\u001b[0;34m\u001b[0m\u001b[0;34m\u001b[0m\u001b[0m\n",
            "\u001b[0;32m/usr/local/lib/python3.7/dist-packages/ipykernel/kernelbase.py\u001b[0m in \u001b[0;36mraw_input\u001b[0;34m(self, prompt)\u001b[0m\n\u001b[1;32m    702\u001b[0m             \u001b[0mself\u001b[0m\u001b[0;34m.\u001b[0m\u001b[0m_parent_ident\u001b[0m\u001b[0;34m,\u001b[0m\u001b[0;34m\u001b[0m\u001b[0;34m\u001b[0m\u001b[0m\n\u001b[1;32m    703\u001b[0m             \u001b[0mself\u001b[0m\u001b[0;34m.\u001b[0m\u001b[0m_parent_header\u001b[0m\u001b[0;34m,\u001b[0m\u001b[0;34m\u001b[0m\u001b[0;34m\u001b[0m\u001b[0m\n\u001b[0;32m--> 704\u001b[0;31m             \u001b[0mpassword\u001b[0m\u001b[0;34m=\u001b[0m\u001b[0;32mFalse\u001b[0m\u001b[0;34m,\u001b[0m\u001b[0;34m\u001b[0m\u001b[0;34m\u001b[0m\u001b[0m\n\u001b[0m\u001b[1;32m    705\u001b[0m         )\n\u001b[1;32m    706\u001b[0m \u001b[0;34m\u001b[0m\u001b[0m\n",
            "\u001b[0;32m/usr/local/lib/python3.7/dist-packages/ipykernel/kernelbase.py\u001b[0m in \u001b[0;36m_input_request\u001b[0;34m(self, prompt, ident, parent, password)\u001b[0m\n\u001b[1;32m    732\u001b[0m             \u001b[0;32mexcept\u001b[0m \u001b[0mKeyboardInterrupt\u001b[0m\u001b[0;34m:\u001b[0m\u001b[0;34m\u001b[0m\u001b[0;34m\u001b[0m\u001b[0m\n\u001b[1;32m    733\u001b[0m                 \u001b[0;31m# re-raise KeyboardInterrupt, to truncate traceback\u001b[0m\u001b[0;34m\u001b[0m\u001b[0;34m\u001b[0m\u001b[0;34m\u001b[0m\u001b[0m\n\u001b[0;32m--> 734\u001b[0;31m                 \u001b[0;32mraise\u001b[0m \u001b[0mKeyboardInterrupt\u001b[0m\u001b[0;34m\u001b[0m\u001b[0;34m\u001b[0m\u001b[0m\n\u001b[0m\u001b[1;32m    735\u001b[0m             \u001b[0;32melse\u001b[0m\u001b[0;34m:\u001b[0m\u001b[0;34m\u001b[0m\u001b[0;34m\u001b[0m\u001b[0m\n\u001b[1;32m    736\u001b[0m                 \u001b[0;32mbreak\u001b[0m\u001b[0;34m\u001b[0m\u001b[0;34m\u001b[0m\u001b[0m\n",
            "\u001b[0;31mKeyboardInterrupt\u001b[0m: "
          ]
        }
      ]
    },
    {
      "cell_type": "code",
      "source": [
        "#按下y才重覆執行\n",
        "while True:\n",
        "  z=input()\n",
        "  if z=='y':\n",
        "    print('run')\n",
        "  else:\n",
        "    break\n",
        "\n",
        "\n",
        "  "
      ],
      "metadata": {
        "colab": {
          "base_uri": "https://localhost:8080/"
        },
        "id": "y6fvdrOwtllE",
        "outputId": "4d3c0ed6-a836-41ad-837e-281cf357e2e3"
      },
      "execution_count": 42,
      "outputs": [
        {
          "name": "stdout",
          "output_type": "stream",
          "text": [
            "y\n",
            "run\n",
            "y\n",
            "run\n",
            "y\n",
            "run\n",
            "5\n"
          ]
        }
      ]
    },
    {
      "cell_type": "code",
      "source": [
        "#1019. BMI計算機\n",
        "\n",
        "cm = eval(input())\n",
        "kg = eval(input())\n",
        "\n",
        "BMI=(kg) / (cm/100)**2\n",
        "\n",
        "if BMI < 18.5:\n",
        "  print('%.2f'%BMI,'Underweight',sep='\\n')\n",
        "elif 18.5<= BMI <24:\n",
        "  print('%.2f'%BMI,'Normal',sep='\\n')\n",
        "elif 24<= BMI <27:\n",
        "  print('%.2f'%BMI,'Overweight',sep='\\n')\n",
        "elif 27<= BMI <30:\n",
        "  print('%.2f'%BMI,'Obese Class I',sep='\\n')\n",
        "elif 30<= BMI <35:\n",
        "  print('%.2f'%BMI,'Obese Class II',sep='\\n')\n",
        "elif BMI>=35:\n",
        "  print('%.2f'%BMI,'Obese Class III',sep='\\n')"
      ],
      "metadata": {
        "colab": {
          "base_uri": "https://localhost:8080/"
        },
        "id": "3JZd3Ve-YPpl",
        "outputId": "1454e86b-80e1-4c0d-ce5f-8a2821262468"
      },
      "execution_count": 68,
      "outputs": [
        {
          "output_type": "stream",
          "name": "stdout",
          "text": [
            "155\n",
            "52\n",
            "21.64\n",
            "Normal\n"
          ]
        }
      ]
    },
    {
      "cell_type": "code",
      "source": [
        "#3051. *號聖誕樹\n",
        "\n",
        "n=eval(input())\n",
        "\n",
        "star=0\n",
        "for i in range(1,n+1):\n",
        "\n",
        "  print((' ' * (n - i)) + ('*' * (star+1)))\n",
        "  star+=2\n"
      ],
      "metadata": {
        "colab": {
          "base_uri": "https://localhost:8080/"
        },
        "id": "o3FdmhnWGq25",
        "outputId": "d5d9cf70-9893-48c9-bde3-5ca1c46d5a4b"
      },
      "execution_count": 124,
      "outputs": [
        {
          "output_type": "stream",
          "name": "stdout",
          "text": [
            "3\n",
            "  *\n",
            " ***\n",
            "*****\n"
          ]
        }
      ]
    }
  ]
}